{
 "cells": [
  {
   "cell_type": "markdown",
   "id": "b658cf96",
   "metadata": {},
   "source": [
    "Coin Flip Simulation <br>\n",
    "User select how much time the coin is going to be flipped <br>\n",
    "Record the outcome and count the number of heads and tails"
   ]
  },
  {
   "cell_type": "code",
   "execution_count": 6,
   "id": "601a9ea5",
   "metadata": {},
   "outputs": [
    {
     "name": "stdout",
     "output_type": "stream",
     "text": [
      "Please enter a number of flips you want: 20\n",
      "Number of Heads: 12\n",
      "Number of Tails: 8\n",
      "HTHTHHHHTHTHHTTTTHHH\n"
     ]
    }
   ],
   "source": [
    "import random\n",
    "\n",
    "def flip():\n",
    "    flip = random.random()\n",
    "    if (flip>=.5):\n",
    "        return True\n",
    "    else:\n",
    "        return False\n",
    "\n",
    "def main(num):\n",
    "    heads = 0\n",
    "    tails = 0\n",
    "    result = \"\"\n",
    "\n",
    "    for i in range(int(num)):\n",
    "        if (flip()):\n",
    "            heads += 1\n",
    "            result += \"H\"\n",
    "        else:\n",
    "            tails+=1\n",
    "            result += \"T\"\n",
    "\n",
    "    print (\"Number of Heads: %i\" % (heads))\n",
    "    print (\"Number of Tails: %i\" % (tails))\n",
    "    print (result)\n",
    "\n",
    "user_input = input(\"Please enter a number of flips you want: \")\n",
    "main(user_input)"
   ]
  },
  {
   "cell_type": "code",
   "execution_count": null,
   "id": "6c38c210",
   "metadata": {},
   "outputs": [],
   "source": []
  }
 ],
 "metadata": {
  "kernelspec": {
   "display_name": "Python 3 (ipykernel)",
   "language": "python",
   "name": "python3"
  },
  "language_info": {
   "codemirror_mode": {
    "name": "ipython",
    "version": 3
   },
   "file_extension": ".py",
   "mimetype": "text/x-python",
   "name": "python",
   "nbconvert_exporter": "python",
   "pygments_lexer": "ipython3",
   "version": "3.9.12"
  }
 },
 "nbformat": 4,
 "nbformat_minor": 5
}
