{
 "cells": [
  {
   "cell_type": "markdown",
   "id": "0c88d25e",
   "metadata": {},
   "source": [
    "A simple clock where it plays a sound after __ number of hours/minutes/seconds or at a particular time as per user requirement!"
   ]
  },
  {
   "cell_type": "code",
   "execution_count": 1,
   "id": "8df1720d",
   "metadata": {},
   "outputs": [],
   "source": [
    "import winsound, time, os, platform"
   ]
  },
  {
   "cell_type": "code",
   "execution_count": 2,
   "id": "ba156338",
   "metadata": {},
   "outputs": [],
   "source": [
    "def sound():\n",
    "    for i in range(2): # Number of repeats!\n",
    "        for j in range(9): # Number of beeps!\n",
    "            winsound.MessageBeep(-1) #Sound played!\n",
    "        \n",
    "    time.sleep(2) # Time between the beeps!\n",
    "\n",
    "def alarm(n):\n",
    "    print()\n",
    "    print(\"The wait time:\",n,\"seconds.\")\n",
    "    time.sleep(n) # Waits 'n' seconds before playing the sound!\n",
    "    \n",
    "    sound()\n",
    "    "
   ]
  },
  {
   "cell_type": "code",
   "execution_count": 3,
   "id": "b89fdb05",
   "metadata": {},
   "outputs": [
    {
     "name": "stdout",
     "output_type": "stream",
     "text": [
      "What unit of time you want to wait?\n",
      "1. Hours\n",
      "2. Minutes\n",
      "3. Seconds\n",
      "4. Combination\n",
      " : 3\n",
      "Enter the desired seconds: 1\n",
      "\n",
      "The wait time: 1 seconds.\n"
     ]
    }
   ],
   "source": [
    "def input_desired(user_input):\n",
    "    \n",
    "    if user_input == '1':\n",
    "        user_input = int(input(\"Enter the desired hours: \"))\n",
    "        waiting_time = (user_input * 60 ) * 60\n",
    "        alarm(waiting_time)\n",
    "        \n",
    "    elif user_input == '2':\n",
    "        user_input = int(input(\"Enter the desired minutes: \"))\n",
    "        waiting_time = (user_input * 60 ) \n",
    "        alarm(waiting_time)\n",
    "        \n",
    "    elif user_input == '3':\n",
    "        user_input = int(input(\"Enter the desired seconds: \"))\n",
    "        waiting_time = user_input  \n",
    "        alarm(waiting_time)\n",
    "        \n",
    "    elif user_input == '4':\n",
    "        hours = int(input(\"Hours:\"))\n",
    "        minutes = int(input(\"Minutes:\"))\n",
    "        seconds = int(input(\"Seconds:\"))\n",
    "        \n",
    "        waiting_time =  ((hours * 60 ) * 60 ) + (minutes * 60 )+ seconds\n",
    "        print(waiting_time)\n",
    "        alarm(waiting_time)\n",
    "    \n",
    "    else:\n",
    "        try:\n",
    "            os.system('cls') #If OS in Windows\n",
    "            main()\n",
    "            \n",
    "        except:\n",
    "            os.system('clear') #If Os is Mac or linux\n",
    "            main()\n",
    "\n",
    "            \n",
    "            \n",
    "def main():\n",
    "    print(\"What unit of time you want to wait?\")\n",
    "    print(\"1. Hours\\n2. Minutes\\n3. Seconds\\n4. Combination\")\n",
    "    main_input = input (\" : \")\n",
    "    input_desired(main_input)\n",
    "    \n",
    "    return\n",
    "main()\n",
    "        "
   ]
  }
 ],
 "metadata": {
  "kernelspec": {
   "display_name": "Python 3 (ipykernel)",
   "language": "python",
   "name": "python3"
  },
  "language_info": {
   "codemirror_mode": {
    "name": "ipython",
    "version": 3
   },
   "file_extension": ".py",
   "mimetype": "text/x-python",
   "name": "python",
   "nbconvert_exporter": "python",
   "pygments_lexer": "ipython3",
   "version": "3.9.12"
  }
 },
 "nbformat": 4,
 "nbformat_minor": 5
}
