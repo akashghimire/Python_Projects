{
 "cells": [
  {
   "cell_type": "markdown",
   "id": "dd27cf86",
   "metadata": {},
   "source": [
    "The sieve of Eratosthenes is an ancient algorithm for finding all prime numbers up to any given limit."
   ]
  },
  {
   "cell_type": "code",
   "execution_count": 11,
   "id": "024a89da",
   "metadata": {},
   "outputs": [
    {
     "name": "stdout",
     "output_type": "stream",
     "text": [
      "Enter the number until where you need to find the prime number:200\n",
      "[2, 3, 5, 7, 11, 13, 17, 19, 23, 29, 31, 37, 41, 43, 47, 53, 59, 61, 67, 71, 73, 79, 83, 89, 97, 101, 103, 107, 109, 113, 127, 131, 137, 139, 149, 151, 157, 163, 167, 173, 179, 181, 191, 193, 197, 199]\n"
     ]
    }
   ],
   "source": [
    "def primes_sieve(limit):\n",
    "    \n",
    "    limitn = limit + 1\n",
    "    not_prime = [False] * limitn\n",
    "    primes = []\n",
    "\n",
    "    for i in range(2, limitn):\n",
    "        \n",
    "        if not_prime[i]:\n",
    "            continue\n",
    "            \n",
    "        for f in range(i*2, limitn, i):\n",
    "            not_prime[f] = True\n",
    "\n",
    "        primes.append(i)\n",
    "\n",
    "    return primes\n",
    "\n",
    "user_input = int(input(\"Enter the number until where you need to find the prime number:\"))\n",
    "print (primes_sieve(user_input))\n"
   ]
  },
  {
   "cell_type": "code",
   "execution_count": null,
   "id": "610ed59a",
   "metadata": {},
   "outputs": [],
   "source": []
  }
 ],
 "metadata": {
  "kernelspec": {
   "display_name": "Python 3 (ipykernel)",
   "language": "python",
   "name": "python3"
  },
  "language_info": {
   "codemirror_mode": {
    "name": "ipython",
    "version": 3
   },
   "file_extension": ".py",
   "mimetype": "text/x-python",
   "name": "python",
   "nbconvert_exporter": "python",
   "pygments_lexer": "ipython3",
   "version": "3.9.12"
  }
 },
 "nbformat": 4,
 "nbformat_minor": 5
}
