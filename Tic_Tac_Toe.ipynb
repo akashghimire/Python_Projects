{
 "cells": [
  {
   "cell_type": "code",
   "execution_count": 1,
   "id": "ab955ffd",
   "metadata": {},
   "outputs": [],
   "source": [
    "from IPython.display import clear_output\n",
    "import random"
   ]
  },
  {
   "cell_type": "code",
   "execution_count": 2,
   "id": "5bbd2149",
   "metadata": {},
   "outputs": [],
   "source": [
    "def display_board(board):\n",
    "    clear_output()\n",
    "    \n",
    "    \n",
    "    \n",
    "    print('   ||   ||')\n",
    "    print(' ' + board[7] + ' || ' + board[8] + ' || ' + board[9])\n",
    "    print('   ||   ||')\n",
    "    print('---||---||---')\n",
    "    print('---||---||---')\n",
    "    print('   ||   ||')\n",
    "    print(' ' + board[4] + ' || ' + board[5] + ' || ' + board[6])\n",
    "    print('   ||   ||')\n",
    "    print('---||---||---')\n",
    "    print('---||---||---')\n",
    "    print('   ||   ||')\n",
    "    print(' ' + board[1] + ' || ' + board[2] + ' || ' + board[3])\n",
    "    print('   ||   ||')\n",
    "    \n",
    "   \n"
   ]
  },
  {
   "cell_type": "markdown",
   "id": "9d0734f4",
   "metadata": {},
   "source": [
    "# Checking the test version of the board!"
   ]
  },
  {
   "cell_type": "code",
   "execution_count": 3,
   "id": "58d54d30",
   "metadata": {},
   "outputs": [
    {
     "name": "stdout",
     "output_type": "stream",
     "text": [
      "   ||   ||\n",
      " X || O || X\n",
      "   ||   ||\n",
      "---||---||---\n",
      "---||---||---\n",
      "   ||   ||\n",
      " O || X || O\n",
      "   ||   ||\n",
      "---||---||---\n",
      "---||---||---\n",
      "   ||   ||\n",
      " X || O || X\n",
      "   ||   ||\n"
     ]
    }
   ],
   "source": [
    "test_board = ['#','X','O','X','O','X','O','X','O','X']\n",
    "display_board(test_board)"
   ]
  },
  {
   "cell_type": "markdown",
   "id": "0192537c",
   "metadata": {},
   "source": [
    "# Function that can take in the player input and assignment of their marker as \"X\" or \"O\""
   ]
  },
  {
   "cell_type": "code",
   "execution_count": 4,
   "id": "b82a393d",
   "metadata": {
    "scrolled": true
   },
   "outputs": [
    {
     "name": "stdout",
     "output_type": "stream",
     "text": [
      "Enter your name, Player One :Akash \n",
      "Enter your name, Player Two :Besnik\n",
      "Akash \n",
      "Besnik\n",
      "Welcome to the game Akash  and Besnik. May the odd be in your favour!\n"
     ]
    }
   ],
   "source": [
    "a = input(\"Enter your name, Player One :\")\n",
    "b = input(\"Enter your name, Player Two :\")\n",
    "\n",
    "\n",
    "print(a)\n",
    "print(b)\n",
    "\n",
    "print (f\"Welcome to the game {a} and {b}. May the odd be in your favour!\")\n",
    "\n",
    "\n",
    "########### PLAYER SELECTION ########\n",
    "\n",
    "def player_markers():\n",
    "    marker = 'wrong'\n",
    "    \n",
    "    '''\n",
    "    \n",
    "    Output is in the format (Player One, Player Two)\n",
    "    \n",
    "    '''\n",
    "    \n",
    "    while not (marker == 'X' or marker == 'O'):\n",
    "        marker = input(f'{a}: Do you want to be X or O? ').upper()\n",
    "\n",
    "    if marker == 'X':\n",
    "        return ( 'X', 'O')\n",
    "    else:\n",
    "        return ('O', 'X')\n",
    "\n"
   ]
  },
  {
   "cell_type": "markdown",
   "id": "89f7a3cd",
   "metadata": {},
   "source": [
    "# Function that takes in the board list object, a marker ('X' or 'O'), and a desired position (number 1-9) and assigns it to the board."
   ]
  },
  {
   "cell_type": "code",
   "execution_count": 5,
   "id": "71eda999",
   "metadata": {},
   "outputs": [],
   "source": [
    "def marker_placement(board, marker, position):\n",
    "    board[position] = marker"
   ]
  },
  {
   "cell_type": "markdown",
   "id": "a62dc313",
   "metadata": {},
   "source": [
    "# Marker function using the test parameter and display the modified board"
   ]
  },
  {
   "cell_type": "code",
   "execution_count": 6,
   "id": "aebbe73b",
   "metadata": {},
   "outputs": [
    {
     "name": "stdout",
     "output_type": "stream",
     "text": [
      "   ||   ||\n",
      " X || & || X\n",
      "   ||   ||\n",
      "---||---||---\n",
      "---||---||---\n",
      "   ||   ||\n",
      " O || X || O\n",
      "   ||   ||\n",
      "---||---||---\n",
      "---||---||---\n",
      "   ||   ||\n",
      " X || O || X\n",
      "   ||   ||\n"
     ]
    }
   ],
   "source": [
    "\n",
    "marker_placement(test_board,'&',8)\n",
    "display_board(test_board)\n"
   ]
  },
  {
   "cell_type": "markdown",
   "id": "7be0c708",
   "metadata": {},
   "source": [
    "# Checking if someone has won or not!"
   ]
  },
  {
   "cell_type": "code",
   "execution_count": 7,
   "id": "36eb68c0",
   "metadata": {},
   "outputs": [],
   "source": [
    "def win_check(board,mark):\n",
    "    \n",
    "    return ((board[7] == mark and board[8] == mark and board[9] == mark) or # across the top\n",
    "    (board[4] == mark and board[5] == mark and board[6] == mark) or # across the middle\n",
    "    (board[1] == mark and board[2] == mark and board[3] == mark) or # across the bottom\n",
    "    (board[7] == mark and board[4] == mark and board[1] == mark) or # down the middle\n",
    "    (board[8] == mark and board[5] == mark and board[2] == mark) or # down the middle\n",
    "    (board[9] == mark and board[6] == mark and board[3] == mark) or # down the right side\n",
    "    (board[7] == mark and board[5] == mark and board[3] == mark) or # diagonal\n",
    "    (board[9] == mark and board[5] == mark and board[1] == mark)) # diagonal"
   ]
  },
  {
   "cell_type": "code",
   "execution_count": 8,
   "id": "e6746f2f",
   "metadata": {},
   "outputs": [
    {
     "data": {
      "text/plain": [
       "True"
      ]
     },
     "execution_count": 8,
     "metadata": {},
     "output_type": "execute_result"
    }
   ],
   "source": [
    "\n",
    "win_check(test_board,'X')"
   ]
  },
  {
   "cell_type": "markdown",
   "id": "bb2e0ef3",
   "metadata": {},
   "source": [
    "# Random assignment of which player gets the chance to play first!"
   ]
  },
  {
   "cell_type": "code",
   "execution_count": 9,
   "id": "a88f322f",
   "metadata": {},
   "outputs": [],
   "source": [
    "import random\n",
    "\n",
    "def who_goes_first():\n",
    "    if random.randint(0, 1) == 0:\n",
    "        return ' Player Two '\n",
    "    else:\n",
    "        return ' Player One '"
   ]
  },
  {
   "cell_type": "markdown",
   "id": "aeadc365",
   "metadata": {},
   "source": [
    "# To check whether the space on the board is available or not!"
   ]
  },
  {
   "cell_type": "code",
   "execution_count": 10,
   "id": "4d76cd60",
   "metadata": {},
   "outputs": [],
   "source": [
    "def space_check_in_board(board, position):\n",
    "    \n",
    "    return board[position] == ' '"
   ]
  },
  {
   "cell_type": "markdown",
   "id": "6d40bd54",
   "metadata": {},
   "source": [
    "# To check whether the board is full or not and return ths boolean value. True if full, else False"
   ]
  },
  {
   "cell_type": "code",
   "execution_count": 11,
   "id": "92bf341f",
   "metadata": {},
   "outputs": [],
   "source": [
    "def full_board_check(board):\n",
    "    for i in range(1,10):\n",
    "        if space_check_in_board(board, i):\n",
    "            return False\n",
    "    return True"
   ]
  },
  {
   "cell_type": "markdown",
   "id": "13f57f5d",
   "metadata": {},
   "source": [
    "# Asking the player to choose the next position (as a number 1-9) and use the function above to check if its a free position or not."
   ]
  },
  {
   "cell_type": "code",
   "execution_count": 12,
   "id": "b4e20145",
   "metadata": {},
   "outputs": [],
   "source": [
    "def player_choice(board):\n",
    "    position = 0\n",
    "    \n",
    "    while position not in [1,2,3,4,5,6,7,8,9] or not space_check_in_board(board, position):\n",
    "        position = int(input('Choose your next position: (1-9) '))\n",
    "        \n",
    "    return position"
   ]
  },
  {
   "cell_type": "markdown",
   "id": "51fb018c",
   "metadata": {},
   "source": [
    "# Asks the player if they want to play again and returns a boolean True if they do want to play again."
   ]
  },
  {
   "cell_type": "code",
   "execution_count": 13,
   "id": "31ca3520",
   "metadata": {},
   "outputs": [],
   "source": [
    "\n",
    "def replay():\n",
    "    \n",
    "    return input('Do you want to play again? Enter Yes or No: ').lower().startswith('y')"
   ]
  },
  {
   "cell_type": "code",
   "execution_count": 14,
   "id": "287e4c27",
   "metadata": {},
   "outputs": [
    {
     "name": "stdout",
     "output_type": "stream",
     "text": [
      "Welcome to Tic Tac Toe!\n",
      "Akash : Do you want to be X or O? X\n",
      " Player Two  will start the game. \n",
      "Are you ready to play the game? Enter Yes or No.No\n",
      "Do you want to play again? Enter Yes or No: No\n"
     ]
    }
   ],
   "source": [
    "print('Welcome to Tic Tac Toe!')\n",
    "\n",
    "while True:\n",
    "    # Reset the board\n",
    "    the_board = [' '] * 10\n",
    "    player_one_marker, player_two_marker = player_markers()\n",
    "    turn = who_goes_first()\n",
    "    print(turn + ' will start the game. ' )\n",
    "    \n",
    "    play_game = input('Are you ready to play the game? Enter Yes or No.')\n",
    "    \n",
    "    if play_game.lower()[0] == 'y':\n",
    "        game_on = True\n",
    "    else:\n",
    "        game_on = False\n",
    "\n",
    "    while game_on:\n",
    "        if turn == 'Player 1':\n",
    "            \n",
    "            # Player1's turn.\n",
    "            \n",
    "            display_board(the_board)\n",
    "            position = player_choice(the_board)\n",
    "            marker_placement(the_board, player_one_marker, position)\n",
    "\n",
    "            if win_check(the_board, player_one_marker):\n",
    "                display_board(the_board)\n",
    "                print(f'Congratulations! {a} have won the game!')\n",
    "                game_on = False\n",
    "            else:\n",
    "                if full_board_check(the_board):\n",
    "                    display_board(the_board)\n",
    "                    print('The game is a draw!, Do not give up!')\n",
    "                    break\n",
    "                else:\n",
    "                    turn = 'Player 2'\n",
    "\n",
    "        else:\n",
    "            \n",
    "            # Player2's turn.\n",
    "            \n",
    "            display_board(the_board)\n",
    "            position = player_choice(the_board)\n",
    "            marker_placement(the_board, player_two_marker, position)\n",
    "\n",
    "            if win_check(the_board, player_two_marker):\n",
    "                display_board(the_board)\n",
    "                print(f'Congratulations! {b} have won the game!')\n",
    "                game_on = False\n",
    "            else:\n",
    "                if full_board_check(the_board):\n",
    "                    display_board(the_board)\n",
    "                    print('The game is a draw!, Do not give up')\n",
    "                    break\n",
    "                else:\n",
    "                    turn = 'Player 1'\n",
    "\n",
    "    if not replay():\n",
    "        break"
   ]
  },
  {
   "cell_type": "markdown",
   "id": "ef0826b0",
   "metadata": {},
   "source": [
    "### "
   ]
  }
 ],
 "metadata": {
  "kernelspec": {
   "display_name": "Python 3 (ipykernel)",
   "language": "python",
   "name": "python3"
  },
  "language_info": {
   "codemirror_mode": {
    "name": "ipython",
    "version": 3
   },
   "file_extension": ".py",
   "mimetype": "text/x-python",
   "name": "python",
   "nbconvert_exporter": "python",
   "pygments_lexer": "ipython3",
   "version": "3.9.12"
  }
 },
 "nbformat": 4,
 "nbformat_minor": 5
}
